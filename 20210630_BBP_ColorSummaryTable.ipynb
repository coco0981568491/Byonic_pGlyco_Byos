{
 "cells": [
  {
   "cell_type": "code",
   "execution_count": 29,
   "id": "0cc80a7b",
   "metadata": {},
   "outputs": [],
   "source": [
    "import pandas as pd\n",
    "import numpy as np\n",
    "import matplotlib as mpl\n",
    "import matplotlib.pyplot as plt\n",
    "from matplotlib.patches import Patch\n",
    "from matplotlib import ticker\n",
    "from IPython.display import display, HTML\n",
    "import re # finding specific patterns in str\n",
    "import textwrap # split text into equal parts\n",
    "import collections # return repeated items in list\n",
    "from collections import OrderedDict\n",
    "import time\n",
    "from datetime import datetime # attach current date to export filename\n",
    "import sys\n",
    "import ast # convert str back to tuple/list/int, etc\n",
    "import matplotlib.cm as cm\n",
    "import matplotlib.colors as mcolors\n",
    "import string\n",
    "\n",
    "# consider bbp all present first\n",
    "# All/Pair/UniquePep/N-glycoPep all add sheet2 for color summary table\n",
    "df = pd.read_excel('20210622_byonic_PTPRA_NoOG_T_pglyco_PTPRA_NoOG_T_All.xlsx', header = 0)\n",
    "fixed_colname = [i.replace('_x000D_', '\\r') if '_x000D_' in i else i for i in df.columns]\n",
    "df.columns = fixed_colname\n",
    "# generate new glycan source/new fragment type for color summary table\n",
    "df.loc[(df['ColorCode']=='lightgreen(#ccffcc)')|(df['ColorCode']=='normalgreen(#99ff99)')|(df['ColorCode']=='lightblue(#cce6ff)')|(df['ColorCode']=='normalblue(#99ccff)')|(df['ColorCode']=='lightorange(#ffebcc)')|(df['ColorCode']=='normalorange(#ffd699)'), 'new_GlycanSource'] = df['GlycanSource']\n",
    "df.loc[(df['ColorCode']=='lightgreen(#ccffcc)')|(df['ColorCode']=='normalgreen(#99ff99)')|(df['ColorCode']=='lightorange(#ffebcc)')|(df['ColorCode']=='normalorange(#ffd699)'), 'new_FragmentType'] = df['Fragment\\r\\nType[Byonic]']\n",
    "df.loc[(df['ColorCode']=='lightblue(#cce6ff)')|(df['ColorCode']=='normalblue(#99ccff)'), 'new_FragmentType'] = df['FragmentType[pGlyco]']\n",
    "df.loc[(df['ColorCode']=='deepgreen(#66ff66)'), ['new_GlycanSource', 'new_FragmentType']] = 'N/A'\n",
    "df.loc[(df['ColorCode']=='deepblue(#66b3ff)'), ['new_GlycanSource', 'new_FragmentType']] = 'N/A'\n",
    "# add categories (Byonic/pGlyco/Overlap)\n",
    "df.loc[df['ColorCode'].str.contains('green')== True, 'Category'] = 'Byonic'\n",
    "df.loc[df['ColorCode'].str.contains('blue')== True, 'Category'] = 'pGlyco'\n",
    "df.loc[df['ColorCode'].str.contains('orange')== True, 'Category'] = 'Overlap'\n",
    "# splitting df\n",
    "b_df = df.loc[(df['N-site(SequonBased)[Byonic]'] != '-1')&(df['N-site(SequonBased)[Byonic]'] != -1), ['N-site(SequonBased)[Byonic]', 'ColorCode', 'new_GlycanSource', 'new_FragmentType', 'Category']].drop_duplicates().reset_index(drop=True).rename(columns={'N-site(SequonBased)[Byonic]':'N-site(Byonic ∪ pGlyco) →'}) \n",
    "p_df = df.loc[(df['ProSites[pGlyco]'] != '-1')&(df['ProSites[pGlyco]'] != -1), ['ProSites[pGlyco]', 'ColorCode', 'new_GlycanSource', 'new_FragmentType', 'Category']].drop_duplicates().reset_index(drop=True).rename(columns={'ProSites[pGlyco]':'N-site(Byonic ∪ pGlyco) →'}) \n",
    "a1, a2 = b_df.align(p_df, join='outer', axis = 1) # align cols only\n",
    "new_df = pd.concat([a1,a2]) # concat vertically \n",
    "new_df = new_df.drop_duplicates().reset_index(drop=True)\n",
    "new_df.to_excel('new_df.xlsx', index = False)\n",
    "new_df['cnt'] = new_df.groupby('ColorCode')['ColorCode'].transform('size')\n",
    "new_df.to_excel('new_df_cnt.xlsx', index = False)\n",
    "color_summary = pd.pivot_table(new_df, values='cnt', index=['Category', 'new_GlycanSource', 'new_FragmentType', 'ColorCode'], columns=['N-site(Byonic ∪ pGlyco) →'], aggfunc=np.sum)\n",
    "# col sort by site\n",
    "site_lst = color_summary.columns.tolist()\n",
    "site_lst = [ast.literal_eval(i) if type(i) == str else i for i in site_lst]\n",
    "site_lst.sort(key=lambda v: (isinstance(v, tuple), v))\n",
    "color_summary = color_summary.reindex(columns=site_lst)\n",
    "# rename index \n",
    "color_summary.index = color_summary.index.set_names(['Category', 'GlycanSource', 'FragmentType', 'ColorCode'])\n",
    "color_summary.to_excel('color_summary_test.xlsx', index_label=[color_summary.index.name, color_summary.columns.name])"
   ]
  },
  {
   "cell_type": "code",
   "execution_count": null,
   "id": "8a37a503",
   "metadata": {},
   "outputs": [],
   "source": []
  }
 ],
 "metadata": {
  "kernelspec": {
   "display_name": "Python 3",
   "language": "python",
   "name": "python3"
  },
  "language_info": {
   "codemirror_mode": {
    "name": "ipython",
    "version": 3
   },
   "file_extension": ".py",
   "mimetype": "text/x-python",
   "name": "python",
   "nbconvert_exporter": "python",
   "pygments_lexer": "ipython3",
   "version": "3.8.10"
  }
 },
 "nbformat": 4,
 "nbformat_minor": 5
}
